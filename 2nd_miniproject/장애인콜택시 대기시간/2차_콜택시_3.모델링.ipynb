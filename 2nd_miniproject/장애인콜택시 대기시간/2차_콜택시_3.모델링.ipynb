{
 "cells": [
  {
   "cell_type": "markdown",
   "metadata": {
    "id": "qsIsGzftJuH9"
   },
   "source": [
    "# 장애인콜택시 대기시간 예측\n",
    "## 단계3. 모델링"
   ]
  },
  {
   "cell_type": "markdown",
   "metadata": {
    "id": "Dh02CX03JuES"
   },
   "source": [
    "## 0.미션\n",
    "\n",
    "* 1.시계열 데이터에 맞는 전처리\n",
    "    * 데이터가 2015 ~ 2022년까지 데이터 입니다.\n",
    "    * 이 중 2022년 10월 ~ 2022년 12월까지(3개월)의 데이터는 성능 검증용으로 사용합니다.\n",
    "    * 나머지 데이터를 이용하여 학습 및 튜닝을 수행합니다.\n",
    "    * 이를 위한 데이터 전처리를 수행하시오.\n",
    "* 2.모델 최적화\n",
    "    * 머신러닝 \n",
    "        * 알고리즘 중 3가지 이상을 선정하여 모델링을 수행합니다.\n",
    "        * 각각 알고리즘에 맞는 튜닝 방법으로 최적의 모델을 만듭니다.\n",
    "    * 딥러닝\n",
    "        * 모델 구조를 2가지 이상을 생성하고 모델링을 수행합니다.\n",
    "        * epochs, learning_rate 등을 조절하며 성능을 튜닝합니다.\n",
    "    * 성능 평가\n",
    "        * 시계열 그래프로 모델의 실제값과 예측값을 시각화하여 비교합니다.\n",
    "        * 성능 지표 (MAE, MAPE) 를 사용해 가장 성능이 높은 모델을 선정합니다.\n",
    "        * 성능 가이드\n",
    "            * MAE : 4 ~ 6\n",
    "            * MAPE : 0.09~0.14"
   ]
  },
  {
   "cell_type": "markdown",
   "metadata": {
    "id": "dWToio0hXNVS"
   },
   "source": [
    "## 1.환경설정"
   ]
  },
  {
   "cell_type": "markdown",
   "metadata": {
    "id": "bo9nL08wIinn"
   },
   "source": [
    "* 세부 요구사항\n",
    "    - 경로 설정 : 다음의 두가지 방법 중 하나를 선택하여 폴더를 준비하고 데이터를 로딩하시오.\n",
    "        * 1) 로컬 수행(Ananconda)\n",
    "            * 제공된 압축파일을 다운받아 압축을 풀고\n",
    "            * anaconda의 root directory(보통 C:/Users/< ID > 에 project 폴더를 만들고, 복사해 넣습니다.\n",
    "        * 2) 구글콜랩\n",
    "            * 구글 드라이브 바로 밑에 project 폴더를 만들고, \n",
    "            * 데이터 파일을 복사해 넣습니다.\n",
    "    - 라이브러리 설치 및 로딩\n",
    "        * requirements.txt 파일로 부터 라이브러리 설치\n",
    "    - 기본적으로 필요한 라이브러리를 import 하도록 코드가 작성되어 있습니다. \n",
    "        * 필요하다고 판단되는 라이브러리를 추가하세요."
   ]
  },
  {
   "cell_type": "markdown",
   "metadata": {
    "id": "Hw88CnLdImJE"
   },
   "source": [
    "### (1) 경로 설정"
   ]
  },
  {
   "cell_type": "markdown",
   "metadata": {
    "id": "HYi9O2rNdBU_"
   },
   "source": [
    "#### 1) 로컬 수행(Anaconda)\n",
    "* project 폴더에 필요한 파일들을 넣고, 본 파일을 열었다면, 별도 경로 지정이 필요하지 않습니다."
   ]
  },
  {
   "cell_type": "code",
   "execution_count": null,
   "metadata": {
    "id": "876cuCbEd4j_"
   },
   "outputs": [],
   "source": [
    "path = ''"
   ]
  },
  {
   "cell_type": "markdown",
   "metadata": {
    "id": "S0yzHcH6fdzJ"
   },
   "source": [
    "#### 2) 구글 콜랩 수행"
   ]
  },
  {
   "cell_type": "markdown",
   "metadata": {
    "id": "Uc_kIeeJeDgi"
   },
   "source": [
    "* 구글 드라이브 연결"
   ]
  },
  {
   "cell_type": "code",
   "execution_count": null,
   "metadata": {
    "id": "dd0SPbYdfhS9"
   },
   "outputs": [],
   "source": [
    "from google.colab import drive\n",
    "drive.mount('/content/drive')"
   ]
  },
  {
   "cell_type": "code",
   "execution_count": null,
   "metadata": {
    "id": "y5OIDazoeIN4"
   },
   "outputs": [],
   "source": [
    "path = '/content/drive/MyDrive/project/'"
   ]
  },
  {
   "cell_type": "markdown",
   "metadata": {
    "id": "KnzVh2LmkLDU"
   },
   "source": [
    "### (2) 라이브러리 설치 및 불러오기"
   ]
  },
  {
   "cell_type": "markdown",
   "metadata": {
    "id": "pU-RB96NJBi6"
   },
   "source": [
    "#### 1) 설치"
   ]
  },
  {
   "cell_type": "markdown",
   "metadata": {
    "id": "7v_Avd8QJEUz"
   },
   "source": [
    "* requirements.txt 파일을 아래 위치에 두고 다음 코드를 실행하시오.\n",
    "    * 로컬 : 다음 코드셀 실행\n",
    "    * 구글콜랩 : requirements.txt 파일을 왼쪽 [파일]탭에 복사해 넣고 다음 코드셀 실행"
   ]
  },
  {
   "cell_type": "code",
   "execution_count": null,
   "metadata": {
    "id": "Xa1PcdmMJGBi"
   },
   "outputs": [],
   "source": [
    "!pip install -r requirements.txt"
   ]
  },
  {
   "cell_type": "markdown",
   "metadata": {
    "id": "kq88g7zGJIJf"
   },
   "source": [
    "#### 2) 라이브러리 로딩"
   ]
  },
  {
   "cell_type": "markdown",
   "metadata": {
    "id": "I_rCs78QJZmI"
   },
   "source": [
    "* **세부 요구사항**\n",
    "    - 기본적으로 필요한 라이브러리를 import 하도록 코드가 작성되어 있습니다.\n",
    "    - 필요하다고 판단되는 라이브러리를 추가하세요."
   ]
  },
  {
   "cell_type": "code",
   "execution_count": 21,
   "metadata": {
    "id": "3rsQerEaELwI"
   },
   "outputs": [],
   "source": [
    "import pandas as pd\n",
    "import numpy as np\n",
    "import matplotlib.pyplot as plt\n",
    "import seaborn as sns\n",
    "\n",
    "import joblib\n",
    "\n",
    "# 필요하다고 판단되는 라이브러리를 추가하세요.\n",
    "from sklearn.model_selection import train_test_split\n",
    "from sklearn.neighbors import KNeighborsRegressor\n",
    "from sklearn.linear_model import LinearRegression, Lasso, Ridge, ElasticNet\n",
    "from sklearn.tree import DecisionTreeRegressor\n",
    "from sklearn.ensemble import RandomForestRegressor\n",
    "from sklearn.ensemble import GradientBoostingRegressor\n",
    "from sklearn.metrics import mean_squared_error\n",
    "from sklearn.metrics import mean_absolute_error\n",
    "from sklearn.metrics import r2_score\n",
    "from sklearn.metrics import f1_score\n",
    "from sklearn.metrics import accuracy_score\n",
    "from sklearn.metrics import recall_score as recall\n"
   ]
  },
  {
   "cell_type": "markdown",
   "metadata": {
    "id": "wsLDv9tZc_i1"
   },
   "source": [
    "### (3) 데이터 불러오기\n",
    "* 주어진 데이터셋\n",
    "    * [2.탐색적 데이터분석] 단계에서 저장한 파일 : data2.pkl"
   ]
  },
  {
   "cell_type": "code",
   "execution_count": 22,
   "metadata": {
    "id": "FT_JFnclfcQ4"
   },
   "outputs": [],
   "source": [
    "file1 = 'data2.pkl'"
   ]
  },
  {
   "cell_type": "code",
   "execution_count": 23,
   "metadata": {
    "id": "ZpMoNMpcQoQ5"
   },
   "outputs": [],
   "source": [
    "data = joblib.load(file1)"
   ]
  },
  {
   "cell_type": "code",
   "execution_count": 24,
   "metadata": {
    "tags": []
   },
   "outputs": [
    {
     "data": {
      "text/html": [
       "<div>\n",
       "<style scoped>\n",
       "    .dataframe tbody tr th:only-of-type {\n",
       "        vertical-align: middle;\n",
       "    }\n",
       "\n",
       "    .dataframe tbody tr th {\n",
       "        vertical-align: top;\n",
       "    }\n",
       "\n",
       "    .dataframe thead th {\n",
       "        text-align: right;\n",
       "    }\n",
       "</style>\n",
       "<table border=\"1\" class=\"dataframe\">\n",
       "  <thead>\n",
       "    <tr style=\"text-align: right;\">\n",
       "      <th></th>\n",
       "      <th>Date</th>\n",
       "      <th>car_cnt</th>\n",
       "      <th>request_cnt</th>\n",
       "      <th>ride_cnt</th>\n",
       "      <th>fare</th>\n",
       "      <th>distance</th>\n",
       "      <th>weekday</th>\n",
       "      <th>month</th>\n",
       "      <th>week</th>\n",
       "      <th>year</th>\n",
       "      <th>...</th>\n",
       "      <th>temp_min</th>\n",
       "      <th>rain(mm)</th>\n",
       "      <th>humidity_max(%)</th>\n",
       "      <th>humidity_min(%)</th>\n",
       "      <th>sunshine(MJ/m2)</th>\n",
       "      <th>season</th>\n",
       "      <th>Holiday_Name</th>\n",
       "      <th>7day_waiting_time_mean</th>\n",
       "      <th>30day_waiting_time_mean</th>\n",
       "      <th>ride_percentage</th>\n",
       "    </tr>\n",
       "  </thead>\n",
       "  <tbody>\n",
       "    <tr>\n",
       "      <th>0</th>\n",
       "      <td>2015-01-01</td>\n",
       "      <td>213</td>\n",
       "      <td>1023</td>\n",
       "      <td>924</td>\n",
       "      <td>2427</td>\n",
       "      <td>10764</td>\n",
       "      <td>Thr</td>\n",
       "      <td>1</td>\n",
       "      <td>1</td>\n",
       "      <td>2015</td>\n",
       "      <td>...</td>\n",
       "      <td>-9.8</td>\n",
       "      <td>0.0</td>\n",
       "      <td>52.0</td>\n",
       "      <td>33.0</td>\n",
       "      <td>9.79</td>\n",
       "      <td>겨울</td>\n",
       "      <td>New year</td>\n",
       "      <td>17.200000</td>\n",
       "      <td>17.200000</td>\n",
       "      <td>90.322581</td>\n",
       "    </tr>\n",
       "    <tr>\n",
       "      <th>1</th>\n",
       "      <td>2015-01-02</td>\n",
       "      <td>420</td>\n",
       "      <td>3158</td>\n",
       "      <td>2839</td>\n",
       "      <td>2216</td>\n",
       "      <td>8611</td>\n",
       "      <td>Fri</td>\n",
       "      <td>1</td>\n",
       "      <td>1</td>\n",
       "      <td>2015</td>\n",
       "      <td>...</td>\n",
       "      <td>-8.9</td>\n",
       "      <td>0.0</td>\n",
       "      <td>63.0</td>\n",
       "      <td>28.0</td>\n",
       "      <td>9.07</td>\n",
       "      <td>겨울</td>\n",
       "      <td>0</td>\n",
       "      <td>21.700000</td>\n",
       "      <td>21.700000</td>\n",
       "      <td>89.898670</td>\n",
       "    </tr>\n",
       "    <tr>\n",
       "      <th>2</th>\n",
       "      <td>2015-01-03</td>\n",
       "      <td>209</td>\n",
       "      <td>1648</td>\n",
       "      <td>1514</td>\n",
       "      <td>2377</td>\n",
       "      <td>10198</td>\n",
       "      <td>Sat</td>\n",
       "      <td>1</td>\n",
       "      <td>1</td>\n",
       "      <td>2015</td>\n",
       "      <td>...</td>\n",
       "      <td>-9.2</td>\n",
       "      <td>0.0</td>\n",
       "      <td>73.0</td>\n",
       "      <td>37.0</td>\n",
       "      <td>8.66</td>\n",
       "      <td>겨울</td>\n",
       "      <td>0</td>\n",
       "      <td>22.633333</td>\n",
       "      <td>22.633333</td>\n",
       "      <td>91.868932</td>\n",
       "    </tr>\n",
       "    <tr>\n",
       "      <th>3</th>\n",
       "      <td>2015-01-04</td>\n",
       "      <td>196</td>\n",
       "      <td>1646</td>\n",
       "      <td>1526</td>\n",
       "      <td>2431</td>\n",
       "      <td>10955</td>\n",
       "      <td>Sun</td>\n",
       "      <td>1</td>\n",
       "      <td>1</td>\n",
       "      <td>2015</td>\n",
       "      <td>...</td>\n",
       "      <td>0.2</td>\n",
       "      <td>0.0</td>\n",
       "      <td>89.0</td>\n",
       "      <td>58.0</td>\n",
       "      <td>5.32</td>\n",
       "      <td>겨울</td>\n",
       "      <td>0</td>\n",
       "      <td>23.525000</td>\n",
       "      <td>23.525000</td>\n",
       "      <td>92.709599</td>\n",
       "    </tr>\n",
       "    <tr>\n",
       "      <th>4</th>\n",
       "      <td>2015-01-05</td>\n",
       "      <td>421</td>\n",
       "      <td>4250</td>\n",
       "      <td>3730</td>\n",
       "      <td>2214</td>\n",
       "      <td>8663</td>\n",
       "      <td>Mon</td>\n",
       "      <td>1</td>\n",
       "      <td>2</td>\n",
       "      <td>2015</td>\n",
       "      <td>...</td>\n",
       "      <td>-0.9</td>\n",
       "      <td>0.0</td>\n",
       "      <td>95.0</td>\n",
       "      <td>52.0</td>\n",
       "      <td>6.48</td>\n",
       "      <td>겨울</td>\n",
       "      <td>0</td>\n",
       "      <td>23.540000</td>\n",
       "      <td>23.540000</td>\n",
       "      <td>87.764706</td>\n",
       "    </tr>\n",
       "  </tbody>\n",
       "</table>\n",
       "<p>5 rows × 22 columns</p>\n",
       "</div>"
      ],
      "text/plain": [
       "        Date  car_cnt  request_cnt  ride_cnt  fare  distance weekday  month  \\\n",
       "0 2015-01-01      213         1023       924  2427     10764     Thr      1   \n",
       "1 2015-01-02      420         3158      2839  2216      8611     Fri      1   \n",
       "2 2015-01-03      209         1648      1514  2377     10198     Sat      1   \n",
       "3 2015-01-04      196         1646      1526  2431     10955     Sun      1   \n",
       "4 2015-01-05      421         4250      3730  2214      8663     Mon      1   \n",
       "\n",
       "   week  year  ...  temp_min  rain(mm)  humidity_max(%)  humidity_min(%)  \\\n",
       "0     1  2015  ...      -9.8       0.0             52.0             33.0   \n",
       "1     1  2015  ...      -8.9       0.0             63.0             28.0   \n",
       "2     1  2015  ...      -9.2       0.0             73.0             37.0   \n",
       "3     1  2015  ...       0.2       0.0             89.0             58.0   \n",
       "4     2  2015  ...      -0.9       0.0             95.0             52.0   \n",
       "\n",
       "   sunshine(MJ/m2)  season  Holiday_Name 7day_waiting_time_mean  \\\n",
       "0             9.79      겨울      New year              17.200000   \n",
       "1             9.07      겨울             0              21.700000   \n",
       "2             8.66      겨울             0              22.633333   \n",
       "3             5.32      겨울             0              23.525000   \n",
       "4             6.48      겨울             0              23.540000   \n",
       "\n",
       "  30day_waiting_time_mean  ride_percentage  \n",
       "0               17.200000        90.322581  \n",
       "1               21.700000        89.898670  \n",
       "2               22.633333        91.868932  \n",
       "3               23.525000        92.709599  \n",
       "4               23.540000        87.764706  \n",
       "\n",
       "[5 rows x 22 columns]"
      ]
     },
     "execution_count": 24,
     "metadata": {},
     "output_type": "execute_result"
    }
   ],
   "source": [
    "data = data.reset_index() # 인덱스 취소\n",
    "data.head()"
   ]
  },
  {
   "cell_type": "markdown",
   "metadata": {
    "id": "OQsk3V6hXSjE"
   },
   "source": [
    "## 2.데이터 준비\n",
    "* **세부요구사항**\n",
    "    * NaN에 대한 조치를 수행하시오.\n",
    "        * rolling 혹은 shift로 발생된 초기 행의 NaN은 삭제해도 무방합니다.\n",
    "    * 가변수화 : 범주형에 대해서 가변수화를 수행합니다.\n",
    "    * 데이터분할\n",
    "        * 시계열 데이터 특성에 맞게 분할합니다.\n",
    "        * 마지막 91일(3개월) 데이터를 검증셋으로 사용합니다."
   ]
  },
  {
   "cell_type": "markdown",
   "metadata": {
    "id": "mp_5volyuaA1"
   },
   "source": [
    "### (1) NA 조치"
   ]
  },
  {
   "cell_type": "code",
   "execution_count": 25,
   "metadata": {
    "id": "k3FHGbBVtDkb"
   },
   "outputs": [
    {
     "data": {
      "text/plain": [
       "Date                       0\n",
       "car_cnt                    0\n",
       "request_cnt                0\n",
       "ride_cnt                   0\n",
       "fare                       0\n",
       "distance                   0\n",
       "weekday                    0\n",
       "month                      0\n",
       "week                       0\n",
       "year                       0\n",
       "target                     0\n",
       "temp_max                   0\n",
       "temp_min                   0\n",
       "rain(mm)                   0\n",
       "humidity_max(%)            0\n",
       "humidity_min(%)            0\n",
       "sunshine(MJ/m2)            0\n",
       "season                     0\n",
       "Holiday_Name               0\n",
       "7day_waiting_time_mean     0\n",
       "30day_waiting_time_mean    0\n",
       "ride_percentage            0\n",
       "dtype: int64"
      ]
     },
     "execution_count": 25,
     "metadata": {},
     "output_type": "execute_result"
    }
   ],
   "source": [
    "data.isna().sum()"
   ]
  },
  {
   "cell_type": "code",
   "execution_count": 26,
   "metadata": {
    "id": "9QUDdGKWtDhi"
   },
   "outputs": [
    {
     "data": {
      "text/plain": [
       "Index(['Date', 'car_cnt', 'request_cnt', 'ride_cnt', 'fare', 'distance',\n",
       "       'weekday', 'month', 'week', 'year', 'target', 'temp_max', 'temp_min',\n",
       "       'rain(mm)', 'humidity_max(%)', 'humidity_min(%)', 'sunshine(MJ/m2)',\n",
       "       'season', 'Holiday_Name', '7day_waiting_time_mean',\n",
       "       '30day_waiting_time_mean', 'ride_percentage'],\n",
       "      dtype='object')"
      ]
     },
     "execution_count": 26,
     "metadata": {},
     "output_type": "execute_result"
    }
   ],
   "source": [
    "data.columns"
   ]
  },
  {
   "cell_type": "code",
   "execution_count": null,
   "metadata": {
    "id": "212BzfnGtDea"
   },
   "outputs": [],
   "source": []
  },
  {
   "cell_type": "markdown",
   "metadata": {
    "id": "nOF9fSLQugGf"
   },
   "source": [
    "### (2) 가변수화"
   ]
  },
  {
   "cell_type": "code",
   "execution_count": 27,
   "metadata": {
    "id": "CZgBC2QSoKc8"
   },
   "outputs": [
    {
     "data": {
      "text/html": [
       "<div>\n",
       "<style scoped>\n",
       "    .dataframe tbody tr th:only-of-type {\n",
       "        vertical-align: middle;\n",
       "    }\n",
       "\n",
       "    .dataframe tbody tr th {\n",
       "        vertical-align: top;\n",
       "    }\n",
       "\n",
       "    .dataframe thead th {\n",
       "        text-align: right;\n",
       "    }\n",
       "</style>\n",
       "<table border=\"1\" class=\"dataframe\">\n",
       "  <thead>\n",
       "    <tr style=\"text-align: right;\">\n",
       "      <th></th>\n",
       "      <th>Date</th>\n",
       "      <th>car_cnt</th>\n",
       "      <th>request_cnt</th>\n",
       "      <th>ride_cnt</th>\n",
       "      <th>fare</th>\n",
       "      <th>distance</th>\n",
       "      <th>month</th>\n",
       "      <th>week</th>\n",
       "      <th>year</th>\n",
       "      <th>target</th>\n",
       "      <th>...</th>\n",
       "      <th>Holiday_Name_Children's Day</th>\n",
       "      <th>Holiday_Name_Christmas Day</th>\n",
       "      <th>Holiday_Name_Hangul Day</th>\n",
       "      <th>Holiday_Name_Independence Day</th>\n",
       "      <th>Holiday_Name_Korean New Year's Day</th>\n",
       "      <th>Holiday_Name_Liberation Day</th>\n",
       "      <th>Holiday_Name_Memorial Day</th>\n",
       "      <th>Holiday_Name_Midautumn Festival</th>\n",
       "      <th>Holiday_Name_National Foundation Day</th>\n",
       "      <th>Holiday_Name_New year</th>\n",
       "    </tr>\n",
       "  </thead>\n",
       "  <tbody>\n",
       "    <tr>\n",
       "      <th>0</th>\n",
       "      <td>2015-01-01</td>\n",
       "      <td>213</td>\n",
       "      <td>1023</td>\n",
       "      <td>924</td>\n",
       "      <td>2427</td>\n",
       "      <td>10764</td>\n",
       "      <td>1</td>\n",
       "      <td>1</td>\n",
       "      <td>2015</td>\n",
       "      <td>17.2</td>\n",
       "      <td>...</td>\n",
       "      <td>0</td>\n",
       "      <td>0</td>\n",
       "      <td>0</td>\n",
       "      <td>0</td>\n",
       "      <td>0</td>\n",
       "      <td>0</td>\n",
       "      <td>0</td>\n",
       "      <td>0</td>\n",
       "      <td>0</td>\n",
       "      <td>1</td>\n",
       "    </tr>\n",
       "    <tr>\n",
       "      <th>1</th>\n",
       "      <td>2015-01-02</td>\n",
       "      <td>420</td>\n",
       "      <td>3158</td>\n",
       "      <td>2839</td>\n",
       "      <td>2216</td>\n",
       "      <td>8611</td>\n",
       "      <td>1</td>\n",
       "      <td>1</td>\n",
       "      <td>2015</td>\n",
       "      <td>26.2</td>\n",
       "      <td>...</td>\n",
       "      <td>0</td>\n",
       "      <td>0</td>\n",
       "      <td>0</td>\n",
       "      <td>0</td>\n",
       "      <td>0</td>\n",
       "      <td>0</td>\n",
       "      <td>0</td>\n",
       "      <td>0</td>\n",
       "      <td>0</td>\n",
       "      <td>0</td>\n",
       "    </tr>\n",
       "    <tr>\n",
       "      <th>2</th>\n",
       "      <td>2015-01-03</td>\n",
       "      <td>209</td>\n",
       "      <td>1648</td>\n",
       "      <td>1514</td>\n",
       "      <td>2377</td>\n",
       "      <td>10198</td>\n",
       "      <td>1</td>\n",
       "      <td>1</td>\n",
       "      <td>2015</td>\n",
       "      <td>24.5</td>\n",
       "      <td>...</td>\n",
       "      <td>0</td>\n",
       "      <td>0</td>\n",
       "      <td>0</td>\n",
       "      <td>0</td>\n",
       "      <td>0</td>\n",
       "      <td>0</td>\n",
       "      <td>0</td>\n",
       "      <td>0</td>\n",
       "      <td>0</td>\n",
       "      <td>0</td>\n",
       "    </tr>\n",
       "    <tr>\n",
       "      <th>3</th>\n",
       "      <td>2015-01-04</td>\n",
       "      <td>196</td>\n",
       "      <td>1646</td>\n",
       "      <td>1526</td>\n",
       "      <td>2431</td>\n",
       "      <td>10955</td>\n",
       "      <td>1</td>\n",
       "      <td>1</td>\n",
       "      <td>2015</td>\n",
       "      <td>26.2</td>\n",
       "      <td>...</td>\n",
       "      <td>0</td>\n",
       "      <td>0</td>\n",
       "      <td>0</td>\n",
       "      <td>0</td>\n",
       "      <td>0</td>\n",
       "      <td>0</td>\n",
       "      <td>0</td>\n",
       "      <td>0</td>\n",
       "      <td>0</td>\n",
       "      <td>0</td>\n",
       "    </tr>\n",
       "    <tr>\n",
       "      <th>4</th>\n",
       "      <td>2015-01-05</td>\n",
       "      <td>421</td>\n",
       "      <td>4250</td>\n",
       "      <td>3730</td>\n",
       "      <td>2214</td>\n",
       "      <td>8663</td>\n",
       "      <td>1</td>\n",
       "      <td>2</td>\n",
       "      <td>2015</td>\n",
       "      <td>23.6</td>\n",
       "      <td>...</td>\n",
       "      <td>0</td>\n",
       "      <td>0</td>\n",
       "      <td>0</td>\n",
       "      <td>0</td>\n",
       "      <td>0</td>\n",
       "      <td>0</td>\n",
       "      <td>0</td>\n",
       "      <td>0</td>\n",
       "      <td>0</td>\n",
       "      <td>0</td>\n",
       "    </tr>\n",
       "  </tbody>\n",
       "</table>\n",
       "<p>5 rows × 39 columns</p>\n",
       "</div>"
      ],
      "text/plain": [
       "        Date  car_cnt  request_cnt  ride_cnt  fare  distance  month  week  \\\n",
       "0 2015-01-01      213         1023       924  2427     10764      1     1   \n",
       "1 2015-01-02      420         3158      2839  2216      8611      1     1   \n",
       "2 2015-01-03      209         1648      1514  2377     10198      1     1   \n",
       "3 2015-01-04      196         1646      1526  2431     10955      1     1   \n",
       "4 2015-01-05      421         4250      3730  2214      8663      1     2   \n",
       "\n",
       "   year  target  ...  Holiday_Name_Children's Day  Holiday_Name_Christmas Day  \\\n",
       "0  2015    17.2  ...                            0                           0   \n",
       "1  2015    26.2  ...                            0                           0   \n",
       "2  2015    24.5  ...                            0                           0   \n",
       "3  2015    26.2  ...                            0                           0   \n",
       "4  2015    23.6  ...                            0                           0   \n",
       "\n",
       "   Holiday_Name_Hangul Day  Holiday_Name_Independence Day  \\\n",
       "0                        0                              0   \n",
       "1                        0                              0   \n",
       "2                        0                              0   \n",
       "3                        0                              0   \n",
       "4                        0                              0   \n",
       "\n",
       "   Holiday_Name_Korean New Year's Day  Holiday_Name_Liberation Day  \\\n",
       "0                                   0                            0   \n",
       "1                                   0                            0   \n",
       "2                                   0                            0   \n",
       "3                                   0                            0   \n",
       "4                                   0                            0   \n",
       "\n",
       "   Holiday_Name_Memorial Day  Holiday_Name_Midautumn Festival  \\\n",
       "0                          0                                0   \n",
       "1                          0                                0   \n",
       "2                          0                                0   \n",
       "3                          0                                0   \n",
       "4                          0                                0   \n",
       "\n",
       "   Holiday_Name_National Foundation Day  Holiday_Name_New year  \n",
       "0                                     0                      1  \n",
       "1                                     0                      0  \n",
       "2                                     0                      0  \n",
       "3                                     0                      0  \n",
       "4                                     0                      0  \n",
       "\n",
       "[5 rows x 39 columns]"
      ]
     },
     "execution_count": 27,
     "metadata": {},
     "output_type": "execute_result"
    }
   ],
   "source": [
    "# 가변수 대상 변수 식별  \n",
    "dumm_cols = ['weekday', 'season', 'Holiday_Name']\n",
    "\n",
    "# 가변수화\n",
    "data = pd.get_dummies(data, columns=dumm_cols, drop_first=True)\n",
    "\n",
    "# 확인\n",
    "data.head()"
   ]
  },
  {
   "cell_type": "code",
   "execution_count": null,
   "metadata": {
    "id": "mKdqMtGjtFSq"
   },
   "outputs": [],
   "source": []
  },
  {
   "cell_type": "markdown",
   "metadata": {
    "id": "WpJEGpUuuVWm"
   },
   "source": [
    "### (3) 데이터분할\n",
    "* **세부요구사항**\n",
    "    * 마지막 91일 간의 데이터를 검증 셋으로 만듭니다. (2022-10-01 ~ )\n",
    "    * 이 기간의 날짜 리스트를 별도로 저장하여, 모델 검증시 시각화할 때 활용합니다."
   ]
  },
  {
   "cell_type": "code",
   "execution_count": 28,
   "metadata": {
    "tags": []
   },
   "outputs": [
    {
     "data": {
      "text/html": [
       "<div>\n",
       "<style scoped>\n",
       "    .dataframe tbody tr th:only-of-type {\n",
       "        vertical-align: middle;\n",
       "    }\n",
       "\n",
       "    .dataframe tbody tr th {\n",
       "        vertical-align: top;\n",
       "    }\n",
       "\n",
       "    .dataframe thead th {\n",
       "        text-align: right;\n",
       "    }\n",
       "</style>\n",
       "<table border=\"1\" class=\"dataframe\">\n",
       "  <thead>\n",
       "    <tr style=\"text-align: right;\">\n",
       "      <th></th>\n",
       "      <th>car_cnt</th>\n",
       "      <th>request_cnt</th>\n",
       "      <th>ride_cnt</th>\n",
       "      <th>fare</th>\n",
       "      <th>distance</th>\n",
       "      <th>month</th>\n",
       "      <th>week</th>\n",
       "      <th>year</th>\n",
       "      <th>target</th>\n",
       "      <th>temp_max</th>\n",
       "      <th>...</th>\n",
       "      <th>Holiday_Name_Children's Day</th>\n",
       "      <th>Holiday_Name_Christmas Day</th>\n",
       "      <th>Holiday_Name_Hangul Day</th>\n",
       "      <th>Holiday_Name_Independence Day</th>\n",
       "      <th>Holiday_Name_Korean New Year's Day</th>\n",
       "      <th>Holiday_Name_Liberation Day</th>\n",
       "      <th>Holiday_Name_Memorial Day</th>\n",
       "      <th>Holiday_Name_Midautumn Festival</th>\n",
       "      <th>Holiday_Name_National Foundation Day</th>\n",
       "      <th>Holiday_Name_New year</th>\n",
       "    </tr>\n",
       "    <tr>\n",
       "      <th>Date</th>\n",
       "      <th></th>\n",
       "      <th></th>\n",
       "      <th></th>\n",
       "      <th></th>\n",
       "      <th></th>\n",
       "      <th></th>\n",
       "      <th></th>\n",
       "      <th></th>\n",
       "      <th></th>\n",
       "      <th></th>\n",
       "      <th></th>\n",
       "      <th></th>\n",
       "      <th></th>\n",
       "      <th></th>\n",
       "      <th></th>\n",
       "      <th></th>\n",
       "      <th></th>\n",
       "      <th></th>\n",
       "      <th></th>\n",
       "      <th></th>\n",
       "      <th></th>\n",
       "    </tr>\n",
       "  </thead>\n",
       "  <tbody>\n",
       "    <tr>\n",
       "      <th>2022-10-01</th>\n",
       "      <td>345</td>\n",
       "      <td>2528</td>\n",
       "      <td>2037</td>\n",
       "      <td>2487</td>\n",
       "      <td>10845</td>\n",
       "      <td>10</td>\n",
       "      <td>39</td>\n",
       "      <td>2022</td>\n",
       "      <td>36.4</td>\n",
       "      <td>27.5</td>\n",
       "      <td>...</td>\n",
       "      <td>0</td>\n",
       "      <td>0</td>\n",
       "      <td>0</td>\n",
       "      <td>0</td>\n",
       "      <td>0</td>\n",
       "      <td>0</td>\n",
       "      <td>0</td>\n",
       "      <td>0</td>\n",
       "      <td>0</td>\n",
       "      <td>0</td>\n",
       "    </tr>\n",
       "    <tr>\n",
       "      <th>2022-10-02</th>\n",
       "      <td>249</td>\n",
       "      <td>1935</td>\n",
       "      <td>1631</td>\n",
       "      <td>2495</td>\n",
       "      <td>10803</td>\n",
       "      <td>10</td>\n",
       "      <td>39</td>\n",
       "      <td>2022</td>\n",
       "      <td>24.9</td>\n",
       "      <td>21.4</td>\n",
       "      <td>...</td>\n",
       "      <td>0</td>\n",
       "      <td>0</td>\n",
       "      <td>0</td>\n",
       "      <td>0</td>\n",
       "      <td>0</td>\n",
       "      <td>0</td>\n",
       "      <td>0</td>\n",
       "      <td>0</td>\n",
       "      <td>0</td>\n",
       "      <td>0</td>\n",
       "    </tr>\n",
       "    <tr>\n",
       "      <th>2022-10-03</th>\n",
       "      <td>267</td>\n",
       "      <td>1707</td>\n",
       "      <td>1374</td>\n",
       "      <td>2367</td>\n",
       "      <td>9868</td>\n",
       "      <td>10</td>\n",
       "      <td>40</td>\n",
       "      <td>2022</td>\n",
       "      <td>41.0</td>\n",
       "      <td>23.3</td>\n",
       "      <td>...</td>\n",
       "      <td>0</td>\n",
       "      <td>0</td>\n",
       "      <td>0</td>\n",
       "      <td>0</td>\n",
       "      <td>0</td>\n",
       "      <td>0</td>\n",
       "      <td>0</td>\n",
       "      <td>0</td>\n",
       "      <td>1</td>\n",
       "      <td>0</td>\n",
       "    </tr>\n",
       "    <tr>\n",
       "      <th>2022-10-04</th>\n",
       "      <td>650</td>\n",
       "      <td>5923</td>\n",
       "      <td>4968</td>\n",
       "      <td>2218</td>\n",
       "      <td>8345</td>\n",
       "      <td>10</td>\n",
       "      <td>40</td>\n",
       "      <td>2022</td>\n",
       "      <td>48.4</td>\n",
       "      <td>23.0</td>\n",
       "      <td>...</td>\n",
       "      <td>0</td>\n",
       "      <td>0</td>\n",
       "      <td>0</td>\n",
       "      <td>0</td>\n",
       "      <td>0</td>\n",
       "      <td>0</td>\n",
       "      <td>0</td>\n",
       "      <td>0</td>\n",
       "      <td>0</td>\n",
       "      <td>0</td>\n",
       "    </tr>\n",
       "    <tr>\n",
       "      <th>2022-10-05</th>\n",
       "      <td>638</td>\n",
       "      <td>5916</td>\n",
       "      <td>4935</td>\n",
       "      <td>2214</td>\n",
       "      <td>8355</td>\n",
       "      <td>10</td>\n",
       "      <td>40</td>\n",
       "      <td>2022</td>\n",
       "      <td>46.5</td>\n",
       "      <td>21.3</td>\n",
       "      <td>...</td>\n",
       "      <td>0</td>\n",
       "      <td>0</td>\n",
       "      <td>0</td>\n",
       "      <td>0</td>\n",
       "      <td>0</td>\n",
       "      <td>0</td>\n",
       "      <td>0</td>\n",
       "      <td>0</td>\n",
       "      <td>0</td>\n",
       "      <td>0</td>\n",
       "    </tr>\n",
       "    <tr>\n",
       "      <th>...</th>\n",
       "      <td>...</td>\n",
       "      <td>...</td>\n",
       "      <td>...</td>\n",
       "      <td>...</td>\n",
       "      <td>...</td>\n",
       "      <td>...</td>\n",
       "      <td>...</td>\n",
       "      <td>...</td>\n",
       "      <td>...</td>\n",
       "      <td>...</td>\n",
       "      <td>...</td>\n",
       "      <td>...</td>\n",
       "      <td>...</td>\n",
       "      <td>...</td>\n",
       "      <td>...</td>\n",
       "      <td>...</td>\n",
       "      <td>...</td>\n",
       "      <td>...</td>\n",
       "      <td>...</td>\n",
       "      <td>...</td>\n",
       "      <td>...</td>\n",
       "    </tr>\n",
       "    <tr>\n",
       "      <th>2022-12-27</th>\n",
       "      <td>669</td>\n",
       "      <td>5635</td>\n",
       "      <td>4654</td>\n",
       "      <td>2198</td>\n",
       "      <td>8178</td>\n",
       "      <td>12</td>\n",
       "      <td>52</td>\n",
       "      <td>2022</td>\n",
       "      <td>44.8</td>\n",
       "      <td>3.0</td>\n",
       "      <td>...</td>\n",
       "      <td>0</td>\n",
       "      <td>0</td>\n",
       "      <td>0</td>\n",
       "      <td>0</td>\n",
       "      <td>0</td>\n",
       "      <td>0</td>\n",
       "      <td>0</td>\n",
       "      <td>0</td>\n",
       "      <td>0</td>\n",
       "      <td>0</td>\n",
       "    </tr>\n",
       "    <tr>\n",
       "      <th>2022-12-28</th>\n",
       "      <td>607</td>\n",
       "      <td>5654</td>\n",
       "      <td>4648</td>\n",
       "      <td>2161</td>\n",
       "      <td>7882</td>\n",
       "      <td>12</td>\n",
       "      <td>52</td>\n",
       "      <td>2022</td>\n",
       "      <td>52.5</td>\n",
       "      <td>-0.3</td>\n",
       "      <td>...</td>\n",
       "      <td>0</td>\n",
       "      <td>0</td>\n",
       "      <td>0</td>\n",
       "      <td>0</td>\n",
       "      <td>0</td>\n",
       "      <td>0</td>\n",
       "      <td>0</td>\n",
       "      <td>0</td>\n",
       "      <td>0</td>\n",
       "      <td>0</td>\n",
       "    </tr>\n",
       "    <tr>\n",
       "      <th>2022-12-29</th>\n",
       "      <td>581</td>\n",
       "      <td>5250</td>\n",
       "      <td>4247</td>\n",
       "      <td>2229</td>\n",
       "      <td>8433</td>\n",
       "      <td>12</td>\n",
       "      <td>52</td>\n",
       "      <td>2022</td>\n",
       "      <td>38.3</td>\n",
       "      <td>1.7</td>\n",
       "      <td>...</td>\n",
       "      <td>0</td>\n",
       "      <td>0</td>\n",
       "      <td>0</td>\n",
       "      <td>0</td>\n",
       "      <td>0</td>\n",
       "      <td>0</td>\n",
       "      <td>0</td>\n",
       "      <td>0</td>\n",
       "      <td>0</td>\n",
       "      <td>0</td>\n",
       "    </tr>\n",
       "    <tr>\n",
       "      <th>2022-12-30</th>\n",
       "      <td>600</td>\n",
       "      <td>5293</td>\n",
       "      <td>4200</td>\n",
       "      <td>2183</td>\n",
       "      <td>8155</td>\n",
       "      <td>12</td>\n",
       "      <td>52</td>\n",
       "      <td>2022</td>\n",
       "      <td>33.7</td>\n",
       "      <td>2.1</td>\n",
       "      <td>...</td>\n",
       "      <td>0</td>\n",
       "      <td>0</td>\n",
       "      <td>0</td>\n",
       "      <td>0</td>\n",
       "      <td>0</td>\n",
       "      <td>0</td>\n",
       "      <td>0</td>\n",
       "      <td>0</td>\n",
       "      <td>0</td>\n",
       "      <td>0</td>\n",
       "    </tr>\n",
       "    <tr>\n",
       "      <th>2022-12-31</th>\n",
       "      <td>263</td>\n",
       "      <td>2167</td>\n",
       "      <td>1806</td>\n",
       "      <td>2318</td>\n",
       "      <td>9435</td>\n",
       "      <td>12</td>\n",
       "      <td>52</td>\n",
       "      <td>2022</td>\n",
       "      <td>0.0</td>\n",
       "      <td>-4.4</td>\n",
       "      <td>...</td>\n",
       "      <td>0</td>\n",
       "      <td>0</td>\n",
       "      <td>0</td>\n",
       "      <td>0</td>\n",
       "      <td>0</td>\n",
       "      <td>0</td>\n",
       "      <td>0</td>\n",
       "      <td>0</td>\n",
       "      <td>0</td>\n",
       "      <td>0</td>\n",
       "    </tr>\n",
       "  </tbody>\n",
       "</table>\n",
       "<p>92 rows × 38 columns</p>\n",
       "</div>"
      ],
      "text/plain": [
       "            car_cnt  request_cnt  ride_cnt  fare  distance  month  week  year  \\\n",
       "Date                                                                            \n",
       "2022-10-01      345         2528      2037  2487     10845     10    39  2022   \n",
       "2022-10-02      249         1935      1631  2495     10803     10    39  2022   \n",
       "2022-10-03      267         1707      1374  2367      9868     10    40  2022   \n",
       "2022-10-04      650         5923      4968  2218      8345     10    40  2022   \n",
       "2022-10-05      638         5916      4935  2214      8355     10    40  2022   \n",
       "...             ...          ...       ...   ...       ...    ...   ...   ...   \n",
       "2022-12-27      669         5635      4654  2198      8178     12    52  2022   \n",
       "2022-12-28      607         5654      4648  2161      7882     12    52  2022   \n",
       "2022-12-29      581         5250      4247  2229      8433     12    52  2022   \n",
       "2022-12-30      600         5293      4200  2183      8155     12    52  2022   \n",
       "2022-12-31      263         2167      1806  2318      9435     12    52  2022   \n",
       "\n",
       "            target  temp_max  ...  Holiday_Name_Children's Day  \\\n",
       "Date                          ...                                \n",
       "2022-10-01    36.4      27.5  ...                            0   \n",
       "2022-10-02    24.9      21.4  ...                            0   \n",
       "2022-10-03    41.0      23.3  ...                            0   \n",
       "2022-10-04    48.4      23.0  ...                            0   \n",
       "2022-10-05    46.5      21.3  ...                            0   \n",
       "...            ...       ...  ...                          ...   \n",
       "2022-12-27    44.8       3.0  ...                            0   \n",
       "2022-12-28    52.5      -0.3  ...                            0   \n",
       "2022-12-29    38.3       1.7  ...                            0   \n",
       "2022-12-30    33.7       2.1  ...                            0   \n",
       "2022-12-31     0.0      -4.4  ...                            0   \n",
       "\n",
       "            Holiday_Name_Christmas Day  Holiday_Name_Hangul Day  \\\n",
       "Date                                                              \n",
       "2022-10-01                           0                        0   \n",
       "2022-10-02                           0                        0   \n",
       "2022-10-03                           0                        0   \n",
       "2022-10-04                           0                        0   \n",
       "2022-10-05                           0                        0   \n",
       "...                                ...                      ...   \n",
       "2022-12-27                           0                        0   \n",
       "2022-12-28                           0                        0   \n",
       "2022-12-29                           0                        0   \n",
       "2022-12-30                           0                        0   \n",
       "2022-12-31                           0                        0   \n",
       "\n",
       "            Holiday_Name_Independence Day  Holiday_Name_Korean New Year's Day  \\\n",
       "Date                                                                            \n",
       "2022-10-01                              0                                   0   \n",
       "2022-10-02                              0                                   0   \n",
       "2022-10-03                              0                                   0   \n",
       "2022-10-04                              0                                   0   \n",
       "2022-10-05                              0                                   0   \n",
       "...                                   ...                                 ...   \n",
       "2022-12-27                              0                                   0   \n",
       "2022-12-28                              0                                   0   \n",
       "2022-12-29                              0                                   0   \n",
       "2022-12-30                              0                                   0   \n",
       "2022-12-31                              0                                   0   \n",
       "\n",
       "            Holiday_Name_Liberation Day  Holiday_Name_Memorial Day  \\\n",
       "Date                                                                 \n",
       "2022-10-01                            0                          0   \n",
       "2022-10-02                            0                          0   \n",
       "2022-10-03                            0                          0   \n",
       "2022-10-04                            0                          0   \n",
       "2022-10-05                            0                          0   \n",
       "...                                 ...                        ...   \n",
       "2022-12-27                            0                          0   \n",
       "2022-12-28                            0                          0   \n",
       "2022-12-29                            0                          0   \n",
       "2022-12-30                            0                          0   \n",
       "2022-12-31                            0                          0   \n",
       "\n",
       "            Holiday_Name_Midautumn Festival  \\\n",
       "Date                                          \n",
       "2022-10-01                                0   \n",
       "2022-10-02                                0   \n",
       "2022-10-03                                0   \n",
       "2022-10-04                                0   \n",
       "2022-10-05                                0   \n",
       "...                                     ...   \n",
       "2022-12-27                                0   \n",
       "2022-12-28                                0   \n",
       "2022-12-29                                0   \n",
       "2022-12-30                                0   \n",
       "2022-12-31                                0   \n",
       "\n",
       "            Holiday_Name_National Foundation Day  Holiday_Name_New year  \n",
       "Date                                                                     \n",
       "2022-10-01                                     0                      0  \n",
       "2022-10-02                                     0                      0  \n",
       "2022-10-03                                     1                      0  \n",
       "2022-10-04                                     0                      0  \n",
       "2022-10-05                                     0                      0  \n",
       "...                                          ...                    ...  \n",
       "2022-12-27                                     0                      0  \n",
       "2022-12-28                                     0                      0  \n",
       "2022-12-29                                     0                      0  \n",
       "2022-12-30                                     0                      0  \n",
       "2022-12-31                                     0                      0  \n",
       "\n",
       "[92 rows x 38 columns]"
      ]
     },
     "execution_count": 28,
     "metadata": {},
     "output_type": "execute_result"
    }
   ],
   "source": [
    "# 2022-10-01부터 마지막 91일 간의 데이터 추출\n",
    "start_date = '2022-10-01'\n",
    "modeling_data = data[data['Date'] >= start_date]\n",
    "\n",
    "modeling_data = modeling_data.set_index(keys='Date') # 'Date' 인덱스 처리\n",
    "modeling_data"
   ]
  },
  {
   "cell_type": "code",
   "execution_count": 29,
   "metadata": {
    "tags": []
   },
   "outputs": [
    {
     "data": {
      "text/html": [
       "<div>\n",
       "<style scoped>\n",
       "    .dataframe tbody tr th:only-of-type {\n",
       "        vertical-align: middle;\n",
       "    }\n",
       "\n",
       "    .dataframe tbody tr th {\n",
       "        vertical-align: top;\n",
       "    }\n",
       "\n",
       "    .dataframe thead th {\n",
       "        text-align: right;\n",
       "    }\n",
       "</style>\n",
       "<table border=\"1\" class=\"dataframe\">\n",
       "  <thead>\n",
       "    <tr style=\"text-align: right;\">\n",
       "      <th></th>\n",
       "      <th>car_cnt</th>\n",
       "      <th>request_cnt</th>\n",
       "      <th>ride_cnt</th>\n",
       "      <th>fare</th>\n",
       "      <th>distance</th>\n",
       "      <th>month</th>\n",
       "      <th>week</th>\n",
       "      <th>year</th>\n",
       "      <th>target</th>\n",
       "      <th>temp_max</th>\n",
       "      <th>...</th>\n",
       "      <th>Holiday_Name_Children's Day</th>\n",
       "      <th>Holiday_Name_Christmas Day</th>\n",
       "      <th>Holiday_Name_Hangul Day</th>\n",
       "      <th>Holiday_Name_Independence Day</th>\n",
       "      <th>Holiday_Name_Korean New Year's Day</th>\n",
       "      <th>Holiday_Name_Liberation Day</th>\n",
       "      <th>Holiday_Name_Memorial Day</th>\n",
       "      <th>Holiday_Name_Midautumn Festival</th>\n",
       "      <th>Holiday_Name_National Foundation Day</th>\n",
       "      <th>Holiday_Name_New year</th>\n",
       "    </tr>\n",
       "    <tr>\n",
       "      <th>Date</th>\n",
       "      <th></th>\n",
       "      <th></th>\n",
       "      <th></th>\n",
       "      <th></th>\n",
       "      <th></th>\n",
       "      <th></th>\n",
       "      <th></th>\n",
       "      <th></th>\n",
       "      <th></th>\n",
       "      <th></th>\n",
       "      <th></th>\n",
       "      <th></th>\n",
       "      <th></th>\n",
       "      <th></th>\n",
       "      <th></th>\n",
       "      <th></th>\n",
       "      <th></th>\n",
       "      <th></th>\n",
       "      <th></th>\n",
       "      <th></th>\n",
       "      <th></th>\n",
       "    </tr>\n",
       "  </thead>\n",
       "  <tbody>\n",
       "    <tr>\n",
       "      <th>2015-01-01</th>\n",
       "      <td>213</td>\n",
       "      <td>1023</td>\n",
       "      <td>924</td>\n",
       "      <td>2427</td>\n",
       "      <td>10764</td>\n",
       "      <td>1</td>\n",
       "      <td>1</td>\n",
       "      <td>2015</td>\n",
       "      <td>17.2</td>\n",
       "      <td>-4.3</td>\n",
       "      <td>...</td>\n",
       "      <td>0</td>\n",
       "      <td>0</td>\n",
       "      <td>0</td>\n",
       "      <td>0</td>\n",
       "      <td>0</td>\n",
       "      <td>0</td>\n",
       "      <td>0</td>\n",
       "      <td>0</td>\n",
       "      <td>0</td>\n",
       "      <td>1</td>\n",
       "    </tr>\n",
       "    <tr>\n",
       "      <th>2015-01-02</th>\n",
       "      <td>420</td>\n",
       "      <td>3158</td>\n",
       "      <td>2839</td>\n",
       "      <td>2216</td>\n",
       "      <td>8611</td>\n",
       "      <td>1</td>\n",
       "      <td>1</td>\n",
       "      <td>2015</td>\n",
       "      <td>26.2</td>\n",
       "      <td>-2.0</td>\n",
       "      <td>...</td>\n",
       "      <td>0</td>\n",
       "      <td>0</td>\n",
       "      <td>0</td>\n",
       "      <td>0</td>\n",
       "      <td>0</td>\n",
       "      <td>0</td>\n",
       "      <td>0</td>\n",
       "      <td>0</td>\n",
       "      <td>0</td>\n",
       "      <td>0</td>\n",
       "    </tr>\n",
       "    <tr>\n",
       "      <th>2015-01-03</th>\n",
       "      <td>209</td>\n",
       "      <td>1648</td>\n",
       "      <td>1514</td>\n",
       "      <td>2377</td>\n",
       "      <td>10198</td>\n",
       "      <td>1</td>\n",
       "      <td>1</td>\n",
       "      <td>2015</td>\n",
       "      <td>24.5</td>\n",
       "      <td>2.4</td>\n",
       "      <td>...</td>\n",
       "      <td>0</td>\n",
       "      <td>0</td>\n",
       "      <td>0</td>\n",
       "      <td>0</td>\n",
       "      <td>0</td>\n",
       "      <td>0</td>\n",
       "      <td>0</td>\n",
       "      <td>0</td>\n",
       "      <td>0</td>\n",
       "      <td>0</td>\n",
       "    </tr>\n",
       "    <tr>\n",
       "      <th>2015-01-04</th>\n",
       "      <td>196</td>\n",
       "      <td>1646</td>\n",
       "      <td>1526</td>\n",
       "      <td>2431</td>\n",
       "      <td>10955</td>\n",
       "      <td>1</td>\n",
       "      <td>1</td>\n",
       "      <td>2015</td>\n",
       "      <td>26.2</td>\n",
       "      <td>8.2</td>\n",
       "      <td>...</td>\n",
       "      <td>0</td>\n",
       "      <td>0</td>\n",
       "      <td>0</td>\n",
       "      <td>0</td>\n",
       "      <td>0</td>\n",
       "      <td>0</td>\n",
       "      <td>0</td>\n",
       "      <td>0</td>\n",
       "      <td>0</td>\n",
       "      <td>0</td>\n",
       "    </tr>\n",
       "    <tr>\n",
       "      <th>2015-01-05</th>\n",
       "      <td>421</td>\n",
       "      <td>4250</td>\n",
       "      <td>3730</td>\n",
       "      <td>2214</td>\n",
       "      <td>8663</td>\n",
       "      <td>1</td>\n",
       "      <td>2</td>\n",
       "      <td>2015</td>\n",
       "      <td>23.6</td>\n",
       "      <td>7.9</td>\n",
       "      <td>...</td>\n",
       "      <td>0</td>\n",
       "      <td>0</td>\n",
       "      <td>0</td>\n",
       "      <td>0</td>\n",
       "      <td>0</td>\n",
       "      <td>0</td>\n",
       "      <td>0</td>\n",
       "      <td>0</td>\n",
       "      <td>0</td>\n",
       "      <td>0</td>\n",
       "    </tr>\n",
       "  </tbody>\n",
       "</table>\n",
       "<p>5 rows × 38 columns</p>\n",
       "</div>"
      ],
      "text/plain": [
       "            car_cnt  request_cnt  ride_cnt  fare  distance  month  week  year  \\\n",
       "Date                                                                            \n",
       "2015-01-01      213         1023       924  2427     10764      1     1  2015   \n",
       "2015-01-02      420         3158      2839  2216      8611      1     1  2015   \n",
       "2015-01-03      209         1648      1514  2377     10198      1     1  2015   \n",
       "2015-01-04      196         1646      1526  2431     10955      1     1  2015   \n",
       "2015-01-05      421         4250      3730  2214      8663      1     2  2015   \n",
       "\n",
       "            target  temp_max  ...  Holiday_Name_Children's Day  \\\n",
       "Date                          ...                                \n",
       "2015-01-01    17.2      -4.3  ...                            0   \n",
       "2015-01-02    26.2      -2.0  ...                            0   \n",
       "2015-01-03    24.5       2.4  ...                            0   \n",
       "2015-01-04    26.2       8.2  ...                            0   \n",
       "2015-01-05    23.6       7.9  ...                            0   \n",
       "\n",
       "            Holiday_Name_Christmas Day  Holiday_Name_Hangul Day  \\\n",
       "Date                                                              \n",
       "2015-01-01                           0                        0   \n",
       "2015-01-02                           0                        0   \n",
       "2015-01-03                           0                        0   \n",
       "2015-01-04                           0                        0   \n",
       "2015-01-05                           0                        0   \n",
       "\n",
       "            Holiday_Name_Independence Day  Holiday_Name_Korean New Year's Day  \\\n",
       "Date                                                                            \n",
       "2015-01-01                              0                                   0   \n",
       "2015-01-02                              0                                   0   \n",
       "2015-01-03                              0                                   0   \n",
       "2015-01-04                              0                                   0   \n",
       "2015-01-05                              0                                   0   \n",
       "\n",
       "            Holiday_Name_Liberation Day  Holiday_Name_Memorial Day  \\\n",
       "Date                                                                 \n",
       "2015-01-01                            0                          0   \n",
       "2015-01-02                            0                          0   \n",
       "2015-01-03                            0                          0   \n",
       "2015-01-04                            0                          0   \n",
       "2015-01-05                            0                          0   \n",
       "\n",
       "            Holiday_Name_Midautumn Festival  \\\n",
       "Date                                          \n",
       "2015-01-01                                0   \n",
       "2015-01-02                                0   \n",
       "2015-01-03                                0   \n",
       "2015-01-04                                0   \n",
       "2015-01-05                                0   \n",
       "\n",
       "            Holiday_Name_National Foundation Day  Holiday_Name_New year  \n",
       "Date                                                                     \n",
       "2015-01-01                                     0                      1  \n",
       "2015-01-02                                     0                      0  \n",
       "2015-01-03                                     0                      0  \n",
       "2015-01-04                                     0                      0  \n",
       "2015-01-05                                     0                      0  \n",
       "\n",
       "[5 rows x 38 columns]"
      ]
     },
     "execution_count": 29,
     "metadata": {},
     "output_type": "execute_result"
    }
   ],
   "source": [
    "data = data.set_index(keys='Date') # 'Date' 인덱스 처리\n",
    "data.head()"
   ]
  },
  {
   "cell_type": "code",
   "execution_count": 30,
   "metadata": {
    "id": "MkhKUJj_vOQD"
   },
   "outputs": [],
   "source": [
    "target = 'target'"
   ]
  },
  {
   "cell_type": "markdown",
   "metadata": {
    "id": "yRR53accpDHL"
   },
   "source": [
    "#### 1) x, y 나누기"
   ]
  },
  {
   "cell_type": "code",
   "execution_count": 31,
   "metadata": {
    "id": "N-4Msv8VsQ3R"
   },
   "outputs": [],
   "source": [
    "x = data.drop(columns=[target], axis=1)\n",
    "y = data.loc[:, target]"
   ]
  },
  {
   "cell_type": "markdown",
   "metadata": {
    "id": "VBwpOKgkf5Am"
   },
   "source": [
    "#### 2) train : validation 나누기\n",
    "* 힌트 : train_test_split(  ,   ,  test_size = 91, shuffle = False) "
   ]
  },
  {
   "cell_type": "code",
   "execution_count": 32,
   "metadata": {
    "id": "1iHmTnHCgBw5"
   },
   "outputs": [],
   "source": [
    "x_train, x_test, y_train, y_test = train_test_split(x, y, test_size = 91, shuffle=False)"
   ]
  },
  {
   "cell_type": "code",
   "execution_count": 33,
   "metadata": {
    "tags": []
   },
   "outputs": [
    {
     "name": "stdout",
     "output_type": "stream",
     "text": [
      "<class 'pandas.core.frame.DataFrame'>\n",
      "DatetimeIndex: 2832 entries, 2015-01-01 to 2022-10-01\n",
      "Data columns (total 37 columns):\n",
      " #   Column                                Non-Null Count  Dtype  \n",
      "---  ------                                --------------  -----  \n",
      " 0   car_cnt                               2832 non-null   int64  \n",
      " 1   request_cnt                           2832 non-null   int64  \n",
      " 2   ride_cnt                              2832 non-null   int64  \n",
      " 3   fare                                  2832 non-null   int64  \n",
      " 4   distance                              2832 non-null   int64  \n",
      " 5   month                                 2832 non-null   int64  \n",
      " 6   week                                  2832 non-null   UInt32 \n",
      " 7   year                                  2832 non-null   int64  \n",
      " 8   temp_max                              2832 non-null   float64\n",
      " 9   temp_min                              2832 non-null   float64\n",
      " 10  rain(mm)                              2832 non-null   float64\n",
      " 11  humidity_max(%)                       2832 non-null   float64\n",
      " 12  humidity_min(%)                       2832 non-null   float64\n",
      " 13  sunshine(MJ/m2)                       2832 non-null   float64\n",
      " 14  7day_waiting_time_mean                2832 non-null   float64\n",
      " 15  30day_waiting_time_mean               2832 non-null   float64\n",
      " 16  ride_percentage                       2832 non-null   float64\n",
      " 17  weekday_Mon                           2832 non-null   uint8  \n",
      " 18  weekday_Sat                           2832 non-null   uint8  \n",
      " 19  weekday_Sun                           2832 non-null   uint8  \n",
      " 20  weekday_Thr                           2832 non-null   uint8  \n",
      " 21  weekday_Tue                           2832 non-null   uint8  \n",
      " 22  weekday_Wed                           2832 non-null   uint8  \n",
      " 23  season_여름                             2832 non-null   uint8  \n",
      " 24  season_가을                             2832 non-null   uint8  \n",
      " 25  season_겨울                             2832 non-null   uint8  \n",
      " 26  Holiday_Name_Buddha's Birthday        2832 non-null   uint8  \n",
      " 27  Holiday_Name_Children's Day           2832 non-null   uint8  \n",
      " 28  Holiday_Name_Christmas Day            2832 non-null   uint8  \n",
      " 29  Holiday_Name_Hangul Day               2832 non-null   uint8  \n",
      " 30  Holiday_Name_Independence Day         2832 non-null   uint8  \n",
      " 31  Holiday_Name_Korean New Year's Day    2832 non-null   uint8  \n",
      " 32  Holiday_Name_Liberation Day           2832 non-null   uint8  \n",
      " 33  Holiday_Name_Memorial Day             2832 non-null   uint8  \n",
      " 34  Holiday_Name_Midautumn Festival       2832 non-null   uint8  \n",
      " 35  Holiday_Name_National Foundation Day  2832 non-null   uint8  \n",
      " 36  Holiday_Name_New year                 2832 non-null   uint8  \n",
      "dtypes: UInt32(1), float64(9), int64(7), uint8(20)\n",
      "memory usage: 445.3 KB\n"
     ]
    }
   ],
   "source": [
    "x_train.info()"
   ]
  },
  {
   "cell_type": "markdown",
   "metadata": {
    "id": "59bBv0a8heYh"
   },
   "source": [
    "### (4) Scaling\n",
    "* KNN, SVM 알고리즘 및 DL을 적용하기 위해서는 스케일링을 해야 합니다."
   ]
  },
  {
   "cell_type": "code",
   "execution_count": 34,
   "metadata": {
    "id": "RuDcjwhwSo5y"
   },
   "outputs": [],
   "source": [
    "from sklearn.preprocessing import StandardScaler\n",
    "\n",
    "scaler = StandardScaler()\n",
    "x_train = scaler.fit_transform(x_train)\n",
    "x_test = scaler.fit_transform(x_test)"
   ]
  },
  {
   "cell_type": "code",
   "execution_count": 35,
   "metadata": {
    "tags": []
   },
   "outputs": [
    {
     "name": "stdout",
     "output_type": "stream",
     "text": [
      "x_train shape: (2832, 37)\n",
      "x_test shape: (91, 37)\n"
     ]
    }
   ],
   "source": [
    "print('x_train shape:', x_train.shape)\n",
    "print('x_test shape:', x_test.shape)"
   ]
  },
  {
   "cell_type": "markdown",
   "metadata": {
    "id": "30TsHQqzMSbJ"
   },
   "source": [
    "## 3.모델링\n",
    "* **세부요구사항**\n",
    "    * 머신러닝 알고리즘 중 3가지 이상을 사용하여 모델을 만들고 튜닝을 수행합니다.\n",
    "    * 딥러닝 모델 구조 2가지 이상을 설계하고 모델을 생성합니다.\n",
    "    * 성능 측정은 MAE, MAPE로 수행합니다.\n",
    "    * 모델링 후 실제값과 예측값을 시각화(라인차트)하여 분석합니다."
   ]
  },
  {
   "cell_type": "code",
   "execution_count": null,
   "metadata": {
    "id": "mCG_2LfEMdce"
   },
   "outputs": [],
   "source": []
  },
  {
   "cell_type": "code",
   "execution_count": null,
   "metadata": {
    "id": "9NIx9yoHZDyp"
   },
   "outputs": [],
   "source": []
  },
  {
   "cell_type": "markdown",
   "metadata": {
    "id": "ztJOSw2_MaHs"
   },
   "source": [
    "### (1) 머신러닝"
   ]
  },
  {
   "cell_type": "markdown",
   "metadata": {
    "id": "Xb0VvIreaRZF"
   },
   "source": [
    "#### 1) 모델1 - RandomForestRegressor"
   ]
  },
  {
   "cell_type": "code",
   "execution_count": 36,
   "metadata": {
    "id": "dIuWc-NuMZ91"
   },
   "outputs": [
    {
     "name": "stdout",
     "output_type": "stream",
     "text": [
      "MAE :  8.361947078959876\n",
      "MAPE :  0.24323751309336245\n",
      "R2 :  0.14743525774838107\n"
     ]
    }
   ],
   "source": [
    "from sklearn.ensemble import RandomForestRegressor\n",
    "from sklearn.model_selection import cross_val_score\n",
    "from sklearn.metrics import mean_absolute_error, mean_absolute_percentage_error, mean_squared_error, r2_score\n",
    "\n",
    "model_rf = RandomForestRegressor(max_depth=5, n_estimators=100, random_state=1)\n",
    "model_rf.fit(x_train, y_train)\n",
    "ypred_rf = model_rf.predict(x_test)\n",
    "\n",
    "print('MAE : ', mean_absolute_error(ypred_rf, y_test))\n",
    "print('MAPE : ', mean_absolute_percentage_error(ypred_rf, y_test))\n",
    "print('R2 : ', r2_score(ypred_rf, y_test))"
   ]
  },
  {
   "cell_type": "code",
   "execution_count": null,
   "metadata": {
    "id": "dZWz4v3DMZ7S"
   },
   "outputs": [],
   "source": []
  },
  {
   "cell_type": "markdown",
   "metadata": {
    "id": "hthJE54INBFD"
   },
   "source": [
    "#### 2) 모델2 - LinearRegression"
   ]
  },
  {
   "cell_type": "code",
   "execution_count": 37,
   "metadata": {
    "id": "SWIYJuN2tNul"
   },
   "outputs": [
    {
     "name": "stdout",
     "output_type": "stream",
     "text": [
      "MSE: 122.29280468638738\n",
      "R2: -1.1354911673195347\n"
     ]
    }
   ],
   "source": [
    "model_LR = LinearRegression()\n",
    "model_LR.fit(x_train, y_train)\n",
    "ypred_LR = model_LR.predict(x_test)\n",
    "\n",
    "print('MSE:', mse(y_test, ypred_LR))\n",
    "print('R2:', r2_score(y_test, ypred_LR))"
   ]
  },
  {
   "cell_type": "code",
   "execution_count": null,
   "metadata": {
    "id": "QY0t_8tctNul"
   },
   "outputs": [],
   "source": []
  },
  {
   "cell_type": "markdown",
   "metadata": {
    "id": "Xc5u-D-yNCJc"
   },
   "source": [
    "#### 3) 모델3 - GradientBoostingRegressor"
   ]
  },
  {
   "cell_type": "code",
   "execution_count": 38,
   "metadata": {
    "id": "6wz81_3otO-r"
   },
   "outputs": [
    {
     "name": "stdout",
     "output_type": "stream",
     "text": [
      "RMSE: 10.51070797355679\n",
      "R2: -0.9291269760379053\n"
     ]
    }
   ],
   "source": [
    "model_gb = GradientBoostingRegressor(n_estimators=100, learning_rate=0.1, max_depth=5, random_state=1)\n",
    "model_gb.fit(x_train, y_train)\n",
    "y_pred_gb = model_gb.predict(x_test)\n",
    "\n",
    "print('RMSE:', np.sqrt(mean_squared_error(y_test, y_pred_gb)))\n",
    "print('R2:', r2_score(y_test, y_pred_gb))"
   ]
  },
  {
   "cell_type": "code",
   "execution_count": null,
   "metadata": {
    "id": "O-pTRBJAtO-r"
   },
   "outputs": [],
   "source": []
  },
  {
   "cell_type": "markdown",
   "metadata": {
    "id": "9uVK1tgEJqKe"
   },
   "source": [
    "#### 4) 모델4 - DecisionTreeRegressor"
   ]
  },
  {
   "cell_type": "code",
   "execution_count": 39,
   "metadata": {
    "id": "dWERuYXZJsnR"
   },
   "outputs": [
    {
     "name": "stdout",
     "output_type": "stream",
     "text": [
      "MAE: 8.925627358543206\n",
      "R2: -1.0489067161650816\n"
     ]
    }
   ],
   "source": [
    "model_DT = DecisionTreeRegressor(max_depth=5, random_state=1)\n",
    "model_DT.fit(x_train, y_train)\n",
    "y_pred_DT = model_DT.predict(x_test)\n",
    "\n",
    "print('MAE:', mae(y_test, y_pred_DT))\n",
    "print('R2:', r2_score(y_test, y_pred_DT))"
   ]
  },
  {
   "cell_type": "code",
   "execution_count": null,
   "metadata": {
    "id": "JmDH4a0kJseJ"
   },
   "outputs": [],
   "source": []
  },
  {
   "cell_type": "markdown",
   "metadata": {
    "id": "JBXKlQu5P2yM"
   },
   "source": [
    "### (2) 딥러닝"
   ]
  },
  {
   "cell_type": "code",
   "execution_count": null,
   "metadata": {
    "id": "L7R6_Oo-tQ7D"
   },
   "outputs": [],
   "source": []
  },
  {
   "cell_type": "code",
   "execution_count": null,
   "metadata": {
    "id": "9E6wET5xtQ7E"
   },
   "outputs": [],
   "source": []
  },
  {
   "cell_type": "markdown",
   "metadata": {
    "id": "kd1fRLnDaaFY"
   },
   "source": [
    "#### 1) 모델1"
   ]
  },
  {
   "cell_type": "code",
   "execution_count": 44,
   "metadata": {
    "id": "HMOjVWKvtTLb"
   },
   "outputs": [
    {
     "name": "stdout",
     "output_type": "stream",
     "text": [
      "Model: \"sequential\"\n",
      "_________________________________________________________________\n",
      " Layer (type)                Output Shape              Param #   \n",
      "=================================================================\n",
      " dense (Dense)               (None, 512)               19456     \n",
      "                                                                 \n",
      " dropout (Dropout)           (None, 512)               0         \n",
      "                                                                 \n",
      " dense_1 (Dense)             (None, 256)               131328    \n",
      "                                                                 \n",
      " dropout_1 (Dropout)         (None, 256)               0         \n",
      "                                                                 \n",
      " dense_2 (Dense)             (None, 1)                 257       \n",
      "                                                                 \n",
      "=================================================================\n",
      "Total params: 151041 (590.00 KB)\n",
      "Trainable params: 151041 (590.00 KB)\n",
      "Non-trainable params: 0 (0.00 Byte)\n",
      "_________________________________________________________________\n",
      "Epoch 1/30\n",
      "71/71 [==============================] - 1s 5ms/step - loss: 16.2067 - MAE: 16.2067 - val_loss: 5.0797 - val_MAE: 5.0797\n",
      "Epoch 2/30\n",
      "71/71 [==============================] - 0s 3ms/step - loss: 6.7971 - MAE: 6.7971 - val_loss: 4.4043 - val_MAE: 4.4043\n",
      "Epoch 3/30\n",
      "71/71 [==============================] - 0s 3ms/step - loss: 6.3447 - MAE: 6.3447 - val_loss: 4.4486 - val_MAE: 4.4486\n",
      "Epoch 4/30\n",
      "71/71 [==============================] - 0s 3ms/step - loss: 6.0383 - MAE: 6.0383 - val_loss: 4.5882 - val_MAE: 4.5882\n",
      "Epoch 5/30\n",
      "71/71 [==============================] - 0s 3ms/step - loss: 5.8711 - MAE: 5.8711 - val_loss: 4.4761 - val_MAE: 4.4761\n",
      "Epoch 6/30\n",
      "71/71 [==============================] - 0s 3ms/step - loss: 5.6331 - MAE: 5.6331 - val_loss: 4.5479 - val_MAE: 4.5479\n",
      "Epoch 7/30\n",
      "69/71 [============================>.] - ETA: 0s - loss: 5.6785 - MAE: 5.6785Restoring model weights from the end of the best epoch: 2.\n",
      "71/71 [==============================] - 0s 3ms/step - loss: 5.6915 - MAE: 5.6915 - val_loss: 4.8263 - val_MAE: 4.8263\n",
      "Epoch 7: early stopping\n",
      "3/3 [==============================] - 0s 2ms/step\n",
      "MAE :  8.858039097209552\n",
      "MAPE :  0.2907929204059688\n",
      "R2 :  -0.32728389752346665\n"
     ]
    }
   ],
   "source": [
    "import tensorflow as tf\n",
    "from tensorflow import keras\n",
    "from keras.models import Sequential\n",
    "from keras.layers import Dense, Input, Flatten, Dropout\n",
    "\n",
    "keras.backend.clear_session()\n",
    "\n",
    "model1 = Sequential()\n",
    "model1.add(Input(shape=(37,)))\n",
    "model1.add(Dense(512, activation='relu'))\n",
    "model1.add(Dropout(0.2))\n",
    "model1.add(Dense(256, activation='relu'))\n",
    "model1.add(Dropout(0.2))\n",
    "model1.add(Dense(1, activation='linear'))\n",
    "\n",
    "model1.compile(loss='mae', optimizer='adam', metrics=['MAE'])\n",
    "model1.summary()\n",
    "\n",
    "from keras.callbacks import EarlyStopping\n",
    "\n",
    "es = EarlyStopping(monitor='val_loss',\n",
    "                   min_delta=0,\n",
    "                   patience=5,\n",
    "                   verbose=1,\n",
    "                   restore_best_weights=True)\n",
    "\n",
    "model1.fit(x_train, y_train, validation_split=0.2, epochs=30, callbacks=[es], verbose=1, batch_size=32)\n",
    "\n",
    "pred1 = model1.predict(x_test)\n",
    "print('MAE : ', mean_absolute_error(pred1, y_test))\n",
    "print('MAPE : ', mean_absolute_percentage_error(pred1, y_test))\n",
    "print('R2 : ', r2_score(pred1, y_test))\n"
   ]
  },
  {
   "cell_type": "markdown",
   "metadata": {
    "id": "pGilyDYJbssI"
   },
   "source": [
    "#### 2) 모델2  - GRU"
   ]
  },
  {
   "cell_type": "code",
   "execution_count": 64,
   "metadata": {},
   "outputs": [
    {
     "name": "stdout",
     "output_type": "stream",
     "text": [
      "Epoch 1/30\n",
      "89/89 [==============================] - 2s 1ms/step - loss: 1775.9548 - mae: 39.6910\n",
      "Epoch 2/30\n",
      "89/89 [==============================] - 0s 2ms/step - loss: 1668.5123 - mae: 38.4425\n",
      "Epoch 3/30\n",
      "89/89 [==============================] - 0s 2ms/step - loss: 1538.1354 - mae: 36.8581\n",
      "Epoch 4/30\n",
      "89/89 [==============================] - 0s 1ms/step - loss: 1403.3086 - mae: 35.0952\n",
      "Epoch 5/30\n",
      "89/89 [==============================] - 0s 2ms/step - loss: 1273.4895 - mae: 33.2775\n",
      "Epoch 6/30\n",
      "89/89 [==============================] - 0s 2ms/step - loss: 1154.6261 - mae: 31.4828\n",
      "Epoch 7/30\n",
      "89/89 [==============================] - 0s 2ms/step - loss: 1045.0854 - mae: 29.7133\n",
      "Epoch 8/30\n",
      "89/89 [==============================] - 0s 1ms/step - loss: 945.7008 - mae: 27.9995\n",
      "Epoch 9/30\n",
      "89/89 [==============================] - 0s 2ms/step - loss: 853.3643 - mae: 26.3164\n",
      "Epoch 10/30\n",
      "89/89 [==============================] - 0s 1ms/step - loss: 769.0696 - mae: 24.6613\n",
      "Epoch 11/30\n",
      "89/89 [==============================] - 0s 2ms/step - loss: 690.1013 - mae: 23.0243\n",
      "Epoch 12/30\n",
      "89/89 [==============================] - 0s 2ms/step - loss: 617.5645 - mae: 21.4106\n",
      "Epoch 13/30\n",
      "89/89 [==============================] - 0s 3ms/step - loss: 550.0059 - mae: 19.8287\n",
      "Epoch 14/30\n",
      "89/89 [==============================] - 0s 1ms/step - loss: 487.7283 - mae: 18.2613\n",
      "Epoch 15/30\n",
      "89/89 [==============================] - 0s 1ms/step - loss: 430.7849 - mae: 16.7636\n",
      "Epoch 16/30\n",
      "89/89 [==============================] - 0s 1ms/step - loss: 379.8434 - mae: 15.3578\n",
      "Epoch 17/30\n",
      "89/89 [==============================] - 0s 1ms/step - loss: 334.2247 - mae: 14.0847\n",
      "Epoch 18/30\n",
      "89/89 [==============================] - 0s 2ms/step - loss: 293.3345 - mae: 12.9332\n",
      "Epoch 19/30\n",
      "89/89 [==============================] - 0s 1ms/step - loss: 258.3400 - mae: 11.9350\n",
      "Epoch 20/30\n",
      "89/89 [==============================] - 0s 1ms/step - loss: 229.6396 - mae: 11.0958\n",
      "Epoch 21/30\n",
      "89/89 [==============================] - 0s 1ms/step - loss: 206.5444 - mae: 10.3839\n",
      "Epoch 22/30\n",
      "89/89 [==============================] - 0s 2ms/step - loss: 188.1870 - mae: 9.7730\n",
      "Epoch 23/30\n",
      "89/89 [==============================] - 0s 1ms/step - loss: 173.5812 - mae: 9.2735\n",
      "Epoch 24/30\n",
      "89/89 [==============================] - 0s 2ms/step - loss: 161.4335 - mae: 8.8565\n",
      "Epoch 25/30\n",
      "89/89 [==============================] - 0s 2ms/step - loss: 151.1432 - mae: 8.5013\n",
      "Epoch 26/30\n",
      "89/89 [==============================] - 0s 2ms/step - loss: 142.4808 - mae: 8.2060\n",
      "Epoch 27/30\n",
      "89/89 [==============================] - 0s 2ms/step - loss: 134.4162 - mae: 7.9369\n",
      "Epoch 28/30\n",
      "89/89 [==============================] - 0s 2ms/step - loss: 127.3252 - mae: 7.6938\n",
      "Epoch 29/30\n",
      "89/89 [==============================] - 0s 3ms/step - loss: 120.9363 - mae: 7.4672\n",
      "Epoch 30/30\n",
      "89/89 [==============================] - 0s 2ms/step - loss: 115.2175 - mae: 7.2629\n",
      "89/89 [==============================] - 1s 1ms/step - loss: 112.1763 - mae: 7.1444\n",
      "3/3 [==============================] - 0s 3ms/step - loss: 127.4429 - mae: 9.4863\n",
      "[112.1762924194336, 7.144388675689697]\n",
      "[127.44291687011719, 9.486318588256836]\n",
      "3/3 [==============================] - 0s 2ms/step\n",
      "MAE :  10.51224905206607\n",
      "MAPE :  1.435467605984939\n",
      "R2 :  0.008241705833980872\n"
     ]
    }
   ],
   "source": [
    "# Assuming you have correctly reshaped your data as follows\n",
    "X_train = x_train.reshape(-1, 1, 37)\n",
    "X_test = x_test.reshape(-1, 1, 37)\n",
    "\n",
    "from tensorflow.keras.models import Sequential\n",
    "from tensorflow.keras.layers import Dense, LSTM\n",
    "\n",
    "model3 = Sequential()\n",
    "model3.add(LSTM(32, input_shape=(1, 37)))  # Update input shape to match your reshaped data\n",
    "model3.add(Dense(1))\n",
    "model3.compile(optimizer='rmsprop', loss='mse', metrics=['mae'])\n",
    "model3.fit(X_train, y_train, epochs=30, batch_size=32)  # Use X_train and y_train\n",
    "loss_acc = model3.evaluate(X_train, y_train)\n",
    "loss_test = model3.evaluate(X_test, y_test)  # Use X_test and y_test\n",
    "print(loss_acc)\n",
    "print(loss_test)\n",
    "\n",
    "pred2 = model2.predict(x_test)\n",
    "print('MAE : ', mean_absolute_error(pred2, y_test))\n",
    "print('MAPE : ', mean_absolute_percentage_error(pred2, y_test))\n",
    "print('R2 : ', r2_score(pred2, y_test))"
   ]
  },
  {
   "cell_type": "code",
   "execution_count": null,
   "metadata": {
    "id": "LB-zD-54tToj"
   },
   "outputs": [],
   "source": []
  },
  {
   "cell_type": "code",
   "execution_count": 65,
   "metadata": {
    "id": "ePyVFIC3tTlq"
   },
   "outputs": [
    {
     "name": "stdout",
     "output_type": "stream",
     "text": [
      "Epoch 1/30\n",
      "89/89 [==============================] - 2s 2ms/step - loss: 1770.3346 - mae: 39.6451\n",
      "Epoch 2/30\n",
      "89/89 [==============================] - 0s 2ms/step - loss: 1652.1395 - mae: 38.2718\n",
      "Epoch 3/30\n",
      "89/89 [==============================] - 0s 2ms/step - loss: 1515.7876 - mae: 36.5931\n",
      "Epoch 4/30\n",
      "89/89 [==============================] - 0s 1ms/step - loss: 1380.1785 - mae: 34.7871\n",
      "Epoch 5/30\n",
      "89/89 [==============================] - 0s 2ms/step - loss: 1249.8334 - mae: 32.9155\n",
      "Epoch 6/30\n",
      "89/89 [==============================] - 0s 2ms/step - loss: 1129.7836 - mae: 31.0670\n",
      "Epoch 7/30\n",
      "89/89 [==============================] - 0s 2ms/step - loss: 1022.0229 - mae: 29.2760\n",
      "Epoch 8/30\n",
      "89/89 [==============================] - 0s 2ms/step - loss: 924.8281 - mae: 27.5524\n",
      "Epoch 9/30\n",
      "89/89 [==============================] - 0s 2ms/step - loss: 835.1758 - mae: 25.8520\n",
      "Epoch 10/30\n",
      "89/89 [==============================] - 0s 2ms/step - loss: 753.5694 - mae: 24.1917\n",
      "Epoch 11/30\n",
      "89/89 [==============================] - 0s 2ms/step - loss: 677.9449 - mae: 22.5436\n",
      "Epoch 12/30\n",
      "89/89 [==============================] - 0s 1ms/step - loss: 609.2016 - mae: 20.9528\n",
      "Epoch 13/30\n",
      "89/89 [==============================] - 0s 2ms/step - loss: 545.6509 - mae: 19.4004\n",
      "Epoch 14/30\n",
      "89/89 [==============================] - 0s 1ms/step - loss: 488.8077 - mae: 17.9452\n",
      "Epoch 15/30\n",
      "89/89 [==============================] - 0s 2ms/step - loss: 437.9752 - mae: 16.6155\n",
      "Epoch 16/30\n",
      "89/89 [==============================] - 0s 2ms/step - loss: 392.8718 - mae: 15.4079\n",
      "Epoch 17/30\n",
      "89/89 [==============================] - 0s 2ms/step - loss: 353.0785 - mae: 14.3595\n",
      "Epoch 18/30\n",
      "89/89 [==============================] - 0s 2ms/step - loss: 318.0823 - mae: 13.4598\n",
      "Epoch 19/30\n",
      "89/89 [==============================] - 0s 2ms/step - loss: 287.1237 - mae: 12.6316\n",
      "Epoch 20/30\n",
      "89/89 [==============================] - 0s 2ms/step - loss: 261.0104 - mae: 11.9304\n",
      "Epoch 21/30\n",
      "89/89 [==============================] - 0s 2ms/step - loss: 238.7859 - mae: 11.2968\n",
      "Epoch 22/30\n",
      "89/89 [==============================] - 0s 1ms/step - loss: 219.4746 - mae: 10.7209\n",
      "Epoch 23/30\n",
      "89/89 [==============================] - 0s 1ms/step - loss: 203.3366 - mae: 10.1895\n",
      "Epoch 24/30\n",
      "89/89 [==============================] - 0s 1ms/step - loss: 189.0204 - mae: 9.7103\n",
      "Epoch 25/30\n",
      "89/89 [==============================] - 0s 2ms/step - loss: 176.4115 - mae: 9.3060\n",
      "Epoch 26/30\n",
      "89/89 [==============================] - 0s 1ms/step - loss: 165.7231 - mae: 8.9565\n",
      "Epoch 27/30\n",
      "89/89 [==============================] - 0s 1ms/step - loss: 156.3917 - mae: 8.6264\n",
      "Epoch 28/30\n",
      "89/89 [==============================] - 0s 2ms/step - loss: 147.6261 - mae: 8.3242\n",
      "Epoch 29/30\n",
      "89/89 [==============================] - 0s 1ms/step - loss: 139.1584 - mae: 8.0417\n",
      "Epoch 30/30\n",
      "89/89 [==============================] - 0s 1ms/step - loss: 130.4009 - mae: 7.7516\n",
      "89/89 [==============================] - 1s 1ms/step - loss: 125.7781 - mae: 7.5918\n",
      "3/3 [==============================] - 0s 2ms/step - loss: 141.4839 - mae: 9.9368\n",
      "[125.77813720703125, 7.591837406158447]\n",
      "[141.4839324951172, 9.936774253845215]\n",
      "3/3 [==============================] - 0s 4ms/step\n",
      "MAE :  9.936773794823951\n",
      "MAPE :  0.36725753695407876\n",
      "R2 :  -0.042870447883183616\n"
     ]
    }
   ],
   "source": [
    "# Assuming you have correctly reshaped your data as follows\n",
    "x_train = x_train.reshape(-1, 1, 37)\n",
    "x_test = x_test.reshape(-1, 1, 37)\n",
    "\n",
    "from tensorflow.keras.models import Sequential\n",
    "from tensorflow.keras.layers import Dense, LSTM\n",
    "\n",
    "model3 = Sequential()\n",
    "model3.add(LSTM(32, input_shape=(1, 37)))\n",
    "model3.add(Dense(1))\n",
    "model3.compile(optimizer='rmsprop', loss='mse', metrics=['mae'])\n",
    "model3.fit(x_train, y_train, epochs=30, batch_size=32)\n",
    "loss_acc = model3.evaluate(x_train, y_train)\n",
    "loss_test = model3.evaluate(x_test, y_test) \n",
    "print(loss_acc)\n",
    "print(loss_test)\n",
    "\n",
    "pred3 = model3.predict(x_test)\n",
    "print('MAE : ', mean_absolute_error(pred3, y_test))\n",
    "print('MAPE : ', mean_absolute_percentage_error(pred3, y_test))\n",
    "print('R2 : ', r2_score(pred3, y_test))"
   ]
  },
  {
   "cell_type": "code",
   "execution_count": null,
   "metadata": {
    "id": "_6cYoyTetV5Y"
   },
   "outputs": [],
   "source": []
  },
  {
   "cell_type": "code",
   "execution_count": null,
   "metadata": {
    "id": "7sgaOwvntV5Z"
   },
   "outputs": [],
   "source": []
  },
  {
   "cell_type": "code",
   "execution_count": null,
   "metadata": {
    "id": "QlSsmCT5tV5Z"
   },
   "outputs": [],
   "source": []
  },
  {
   "cell_type": "code",
   "execution_count": null,
   "metadata": {
    "id": "sp6Fps2ItV5Z"
   },
   "outputs": [],
   "source": []
  },
  {
   "cell_type": "markdown",
   "metadata": {
    "id": "Ik2DNmAC0Zzd"
   },
   "source": [
    "## 4.모델 비교\n",
    "* **세부요구사항**\n",
    "    * 모델링 단계에서 생성한 모든 모델의 성능을 하나로 모아서 비교합니다.\n",
    "    * 가장 성능이 높은 모델을 선정합니다."
   ]
  },
  {
   "cell_type": "code",
   "execution_count": null,
   "metadata": {
    "id": "qISwMmIK65i1"
   },
   "outputs": [],
   "source": []
  },
  {
   "cell_type": "code",
   "execution_count": null,
   "metadata": {
    "id": "431fKlaTeCWg"
   },
   "outputs": [],
   "source": []
  },
  {
   "cell_type": "code",
   "execution_count": null,
   "metadata": {
    "id": "CRKzHZwbqVkP"
   },
   "outputs": [],
   "source": []
  }
 ],
 "metadata": {
  "colab": {
   "provenance": [
    {
     "file_id": "1rAhFiA-Ujmt8relY5oG0amSLXnIVJ7Fu",
     "timestamp": 1676287923203
    }
   ],
   "toc_visible": true
  },
  "kernelspec": {
   "display_name": "Python 3 (ipykernel)",
   "language": "python",
   "name": "python3"
  },
  "language_info": {
   "codemirror_mode": {
    "name": "ipython",
    "version": 3
   },
   "file_extension": ".py",
   "mimetype": "text/x-python",
   "name": "python",
   "nbconvert_exporter": "python",
   "pygments_lexer": "ipython3",
   "version": "3.11.3"
  }
 },
 "nbformat": 4,
 "nbformat_minor": 4
}
